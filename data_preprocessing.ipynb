{
 "metadata": {
  "language_info": {
   "codemirror_mode": {
    "name": "ipython",
    "version": 3
   },
   "file_extension": ".py",
   "mimetype": "text/x-python",
   "name": "python",
   "nbconvert_exporter": "python",
   "pygments_lexer": "ipython3",
   "version": "3.8.5"
  },
  "orig_nbformat": 2,
  "kernelspec": {
   "name": "python385jvsc74a57bd0be333bfaf4b40d9f2128eb06ccf81a284655b9f6c456fc22510d92c5f9e0d280",
   "display_name": "Python 3.8.5 64-bit ('base': conda)"
  }
 },
 "nbformat": 4,
 "nbformat_minor": 2,
 "cells": [
  {
   "cell_type": "code",
   "execution_count": 1,
   "metadata": {},
   "outputs": [
    {
     "output_type": "stream",
     "name": "stdout",
     "text": [
      "{'with mask': 0, 'without mask': 1}\n['with mask', 'without mask']\n[0, 1]\n"
     ]
    }
   ],
   "source": [
    "import cv2\n",
    "import os\n",
    "\n",
    "data_path='dataset'\n",
    "categories=os.listdir(data_path)\n",
    "labels=[i for i in range(len(categories))]\n",
    "\n",
    "label_dict=dict(zip(categories,labels))\n",
    "\n",
    "print(label_dict)\n",
    "print(categories)\n",
    "print(labels)"
   ]
  },
  {
   "cell_type": "code",
   "execution_count": 2,
   "metadata": {},
   "outputs": [],
   "source": [
    "img_size=100\n",
    "data=[]\n",
    "target=[]\n",
    "\n",
    "\n",
    "for category in categories:\n",
    "    folder_path=os.path.join(data_path,category)\n",
    "    img_names=os.listdir(folder_path)\n",
    "        \n",
    "    for img_name in img_names:\n",
    "        img_path=os.path.join(folder_path,img_name)\n",
    "        img=cv2.imread(img_path)\n",
    "\n",
    "        try:\n",
    "            \n",
    "            # Coverting the image into gray scale\n",
    "            gray=cv2.cvtColor(img,cv2.COLOR_BGR2GRAY)   \n",
    "\n",
    "            # Resizing the gray scale into 100x100        \n",
    "            resized=cv2.resize(gray,(img_size,img_size))\n",
    "\n",
    "            # Appending the image and the label(categorized) into the list (dataset)\n",
    "            data.append(resized)\n",
    "            target.append(label_dict[category])\n",
    "            \n",
    "\n",
    "        except Exception as e:\n",
    "            print('Error Occurred: ', e)\n",
    "            "
   ]
  },
  {
   "cell_type": "code",
   "execution_count": 3,
   "metadata": {},
   "outputs": [],
   "source": [
    "import numpy as np\n",
    "\n",
    "# Converting image data array into numpy array and reshaping it\n",
    "data = np.array(data)/255.0\n",
    "data = np.reshape(data,(data.shape[0],img_size,img_size,1))\n",
    "target = np.array(target)\n",
    "\n",
    "from keras.utils import np_utils\n",
    "\n",
    "new_target=np_utils.to_categorical(target)"
   ]
  },
  {
   "cell_type": "code",
   "execution_count": 5,
   "metadata": {},
   "outputs": [],
   "source": [
    "# saving the data as numpy array file\n",
    "from numpy import savez_compressed\n",
    "savez_compressed('data.npz', data)\n",
    "savez_compressed('taregt.npz', new_target)"
   ]
  }
 ]
}