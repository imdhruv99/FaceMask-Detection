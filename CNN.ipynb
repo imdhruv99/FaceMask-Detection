{
 "cells": [
  {
   "cell_type": "code",
   "execution_count": 1,
   "metadata": {},
   "outputs": [],
   "source": [
    "import numpy as np\n",
    "\n",
    "from keras.models import Sequential\n",
    "from keras.layers import Dense,Activation,Flatten,Dropout,Conv2D,MaxPooling2D\n",
    "from keras.callbacks import ModelCheckpoint\n",
    "from sklearn.model_selection import train_test_split"
   ]
  },
  {
   "cell_type": "code",
   "execution_count": 2,
   "metadata": {},
   "outputs": [],
   "source": [
    "# loading data from numpy array file\n",
    "data=np.load('data.npy')\n",
    "target=np.load('target.npy')"
   ]
  },
  {
   "cell_type": "code",
   "execution_count": 3,
   "metadata": {},
   "outputs": [],
   "source": [
    "### Model Architecute\n",
    "\n",
    "# Defining sequential model\n",
    "model = Sequential()\n",
    "\n",
    "# first layer of CNN with 100 filters, activation function as RELU and Maxpooling layer\n",
    "model.add(Conv2D(100,(3,3),input_shape=data.shape[1:]))\n",
    "model.add(Activation('relu'))\n",
    "model.add(MaxPooling2D(pool_size=(2,2)))\n",
    "\n",
    "# Seconf layer of CNN with 100 filters, activation function as RELU and Maxpooling layer\n",
    "model.add(Conv2D(100,(3,3)))\n",
    "model.add(Activation('relu'))\n",
    "model.add(MaxPooling2D(pool_size=(2,2)))\n",
    "\n",
    "# Flatten layer for converting data into single column for next layers input\n",
    "model.add(Flatten())\n",
    "\n",
    "# Dropout layer for dropping 0.5 amount of neurons\n",
    "model.add(Dropout(0.5))\n",
    "\n",
    "# Dense layer with 50 neurons and Activation function as RELU\n",
    "model.add(Dense(50,activation='relu'))\n",
    "\n",
    "# Output layer with 2 output neurons which are (with mask and without mask) and Activation Softmax\n",
    "model.add(Dense(2,activation='softmax'))"
   ]
  },
  {
   "cell_type": "code",
   "execution_count": 4,
   "metadata": {},
   "outputs": [],
   "source": [
    "model.compile(loss='binary_crossentropy',optimizer='adam',metrics=['accuracy'])"
   ]
  },
  {
   "cell_type": "code",
   "execution_count": 5,
   "metadata": {},
   "outputs": [],
   "source": [
    "train_data,test_data,train_target,test_target=train_test_split(data,target,test_size=0.1)"
   ]
  },
  {
   "cell_type": "code",
   "execution_count": 6,
   "metadata": {},
   "outputs": [],
   "source": [
    "# Checkpoint for saving the models after each epochs, and save the only best model\n",
    "checkpoint = ModelCheckpoint(\n",
    "  'model-{epoch:03d}.model',\n",
    "  monitor='val_loss',\n",
    "  verbose=0,\n",
    "  save_best_only=True,\n",
    "  mode='auto')"
   ]
  },
  {
   "cell_type": "code",
   "execution_count": 7,
   "metadata": {},
   "outputs": [
    {
     "name": "stdout",
     "output_type": "stream",
     "text": [
      "Epoch 1/20\n",
      "31/31 [==============================] - 56s 2s/step - loss: 0.7065 - accuracy: 0.4927 - val_loss: 0.6728 - val_accuracy: 0.7702\n",
      "INFO:tensorflow:Assets written to: model-001.model\\assets\n",
      "Epoch 2/20\n",
      "31/31 [==============================] - 45s 1s/step - loss: 0.6225 - accuracy: 0.7030 - val_loss: 0.5498 - val_accuracy: 0.6815\n",
      "INFO:tensorflow:Assets written to: model-002.model\\assets\n",
      "Epoch 3/20\n",
      "31/31 [==============================] - 44s 1s/step - loss: 0.4689 - accuracy: 0.8092 - val_loss: 0.3720 - val_accuracy: 0.8266\n",
      "INFO:tensorflow:Assets written to: model-003.model\\assets\n",
      "Epoch 4/20\n",
      "31/31 [==============================] - 45s 1s/step - loss: 0.2982 - accuracy: 0.8944 - val_loss: 0.2694 - val_accuracy: 0.9032\n",
      "INFO:tensorflow:Assets written to: model-004.model\\assets\n",
      "Epoch 5/20\n",
      "31/31 [==============================] - 45s 1s/step - loss: 0.2004 - accuracy: 0.9296 - val_loss: 0.1937 - val_accuracy: 0.9113\n",
      "INFO:tensorflow:Assets written to: model-005.model\\assets\n",
      "Epoch 6/20\n",
      "31/31 [==============================] - 45s 1s/step - loss: 0.1978 - accuracy: 0.9141 - val_loss: 0.1687 - val_accuracy: 0.9274\n",
      "INFO:tensorflow:Assets written to: model-006.model\\assets\n",
      "Epoch 7/20\n",
      "31/31 [==============================] - 45s 1s/step - loss: 0.1179 - accuracy: 0.9553 - val_loss: 0.2084 - val_accuracy: 0.9274\n",
      "Epoch 8/20\n",
      "31/31 [==============================] - 45s 1s/step - loss: 0.0961 - accuracy: 0.9719 - val_loss: 0.1267 - val_accuracy: 0.9556\n",
      "INFO:tensorflow:Assets written to: model-008.model\\assets\n",
      "Epoch 9/20\n",
      "31/31 [==============================] - 45s 1s/step - loss: 0.0814 - accuracy: 0.9731 - val_loss: 0.1354 - val_accuracy: 0.9395\n",
      "Epoch 10/20\n",
      "31/31 [==============================] - 45s 1s/step - loss: 0.0473 - accuracy: 0.9885 - val_loss: 0.1998 - val_accuracy: 0.9355\n",
      "Epoch 11/20\n",
      "31/31 [==============================] - 44s 1s/step - loss: 0.0565 - accuracy: 0.9810 - val_loss: 0.2221 - val_accuracy: 0.9355\n",
      "Epoch 12/20\n",
      "31/31 [==============================] - 45s 1s/step - loss: 0.0439 - accuracy: 0.9887 - val_loss: 0.1495 - val_accuracy: 0.9597\n",
      "Epoch 13/20\n",
      "31/31 [==============================] - 45s 1s/step - loss: 0.0289 - accuracy: 0.9924 - val_loss: 0.1203 - val_accuracy: 0.9597\n",
      "INFO:tensorflow:Assets written to: model-013.model\\assets\n",
      "Epoch 14/20\n",
      "31/31 [==============================] - 45s 1s/step - loss: 0.0220 - accuracy: 0.9933 - val_loss: 0.1678 - val_accuracy: 0.9234\n",
      "Epoch 15/20\n",
      "31/31 [==============================] - 44s 1s/step - loss: 0.0291 - accuracy: 0.9936 - val_loss: 0.1893 - val_accuracy: 0.9395\n",
      "Epoch 16/20\n",
      "31/31 [==============================] - 44s 1s/step - loss: 0.0269 - accuracy: 0.9898 - val_loss: 0.1069 - val_accuracy: 0.9597\n",
      "INFO:tensorflow:Assets written to: model-016.model\\assets\n",
      "Epoch 17/20\n",
      "31/31 [==============================] - 45s 1s/step - loss: 0.0135 - accuracy: 0.9962 - val_loss: 0.1207 - val_accuracy: 0.9476\n",
      "Epoch 18/20\n",
      "31/31 [==============================] - 45s 1s/step - loss: 0.0178 - accuracy: 0.9972 - val_loss: 0.1290 - val_accuracy: 0.9677\n",
      "Epoch 19/20\n",
      "31/31 [==============================] - 44s 1s/step - loss: 0.0094 - accuracy: 0.9989 - val_loss: 0.1714 - val_accuracy: 0.9476\n",
      "Epoch 20/20\n",
      "31/31 [==============================] - 45s 1s/step - loss: 0.0162 - accuracy: 0.9944 - val_loss: 0.1255 - val_accuracy: 0.9556\n"
     ]
    }
   ],
   "source": [
    "# Training the model\n",
    "history=model.fit(\n",
    "  train_data,\n",
    "  train_target,\n",
    "  epochs=20,\n",
    "  callbacks=[checkpoint],\n",
    "  validation_split=0.2)"
   ]
  },
  {
   "cell_type": "code",
   "execution_count": 8,
   "metadata": {},
   "outputs": [
    {
     "data": {
      "image/png": "[encoded data removed]",
      "text/plain": [
       "<Figure size 432x288 with 1 Axes>"
      ]
     },
     "metadata": {
      "needs_background": "light"
     },
     "output_type": "display_data"
    }
   ],
   "source": [
    "from matplotlib import pyplot as plt\n",
    "\n",
    "plt.plot(history.history['loss'],'r',label='training loss')\n",
    "plt.plot(history.history['val_loss'],label='validation loss')\n",
    "plt.plot(history.history['accuracy'],'r',label='training accuracy')\n",
    "plt.plot(history.history['val_accuracy'],label='validation accuracy')\n",
    "plt.xlabel('# epochs')\n",
    "plt.ylabel('loss')\n",
    "plt.legend()\n",
    "plt.show()"
   ]
  },
  {
   "cell_type": "code",
   "execution_count": 9,
   "metadata": {},
   "outputs": [
    {
     "name": "stdout",
     "output_type": "stream",
     "text": [
      "5/5 [==============================] - 2s 303ms/step - loss: 0.1732 - accuracy: 0.9565\n",
      "[0.17315717041492462, 0.95652174949646]\n"
     ]
    }
   ],
   "source": [
    "print(model.evaluate(test_data,test_target))"
   ]
  }
 ],
 "metadata": {
  "kernelspec": {
   "display_name": "Python 3",
   "language": "python",
   "name": "python3"
  },
  "language_info": {
   "codemirror_mode": {
    "name": "ipython",
    "version": 3
   },
   "file_extension": ".py",
   "mimetype": "text/x-python",
   "name": "python",
   "nbconvert_exporter": "python",
   "pygments_lexer": "ipython3",
   "version": "3.8.5"
  }
 },
 "nbformat": 4,
 "nbformat_minor": 4
}
